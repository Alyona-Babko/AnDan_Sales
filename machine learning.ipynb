{
 "cells": [
  {
   "cell_type": "markdown",
   "id": "92f17bc0",
   "metadata": {},
   "source": [
    "# Машинное обучение"
   ]
  },
  {
   "cell_type": "code",
   "execution_count": 1,
   "id": "c1fa6ccc",
   "metadata": {},
   "outputs": [],
   "source": [
    "import numpy as np\n",
    "import pandas as pd"
   ]
  },
  {
   "cell_type": "code",
   "execution_count": 2,
   "id": "ac60291f",
   "metadata": {},
   "outputs": [],
   "source": [
    "from sklearn.linear_model import LinearRegression\n",
    "from sklearn import metrics\n",
    "from sklearn.metrics import mean_squared_error\n",
    "from sklearn.preprocessing import StandardScaler"
   ]
  },
  {
   "cell_type": "code",
   "execution_count": 12,
   "id": "6456497c",
   "metadata": {},
   "outputs": [],
   "source": [
    "from sklearn.metrics import mean_squared_error, mean_absolute_error, r2_score"
   ]
  },
  {
   "cell_type": "code",
   "execution_count": 13,
   "id": "04b538e2",
   "metadata": {},
   "outputs": [],
   "source": [
    "import warnings\n",
    "warnings.filterwarnings('ignore')"
   ]
  },
  {
   "cell_type": "markdown",
   "id": "60c97b96",
   "metadata": {},
   "source": [
    "В качестве target-переменной возьмём объем продаж - sales. Так как нам нужно предсказать вещественные числа, будем обучать модель линейной регрессии."
   ]
  },
  {
   "cell_type": "markdown",
   "id": "dbe9f656",
   "metadata": {},
   "source": [
    "Однако, во время промежуточного чекпойнта нам справедливо указали, что модель линейной регрессии плохо справляется с требованиями к сезонности, которая окажет влияние на таргет. \n",
    "Поэтому, поскольку мы точно знаем, что нам нужно предсказать данные за август, возьмем данные за все летние месяцы: "
   ]
  },
  {
   "cell_type": "markdown",
   "id": "481a5258",
   "metadata": {},
   "source": [
    "### 1. Подготовим данные"
   ]
  },
  {
   "cell_type": "code",
   "execution_count": 14,
   "id": "d03cf4c6",
   "metadata": {},
   "outputs": [],
   "source": [
    "temp = pd.read_csv('temp.csv')\n",
    "temp.drop(columns='Unnamed: 0', inplace=True)"
   ]
  },
  {
   "cell_type": "code",
   "execution_count": 15,
   "id": "dc4c01ea",
   "metadata": {},
   "outputs": [],
   "source": [
    "temp['date'] = pd.to_datetime(temp[\"date\"])"
   ]
  },
  {
   "cell_type": "code",
   "execution_count": 16,
   "id": "6535973d",
   "metadata": {},
   "outputs": [],
   "source": [
    "temp['month'] = temp['date'].dt.month"
   ]
  },
  {
   "cell_type": "code",
   "execution_count": 17,
   "id": "343386d8",
   "metadata": {},
   "outputs": [],
   "source": [
    "tem = temp[(temp['month'] == 6) | (temp['month'] == 7) | (temp['month'] == 8)]"
   ]
  },
  {
   "cell_type": "markdown",
   "id": "876236ac",
   "metadata": {},
   "source": [
    "1.1. Выкинем колонки, которые не будем использовать для обучения: city-state заложены в уникальный store_nbr, country - техническая колонка, которая была нужна для объединения датасетов, от колонок 'national_type' и 'regional_type' зависит, есть ли праздник в определенной локации ('local_type' holiday) - их убираем, никакой дополнительной информации они не принесут. "
   ]
  },
  {
   "cell_type": "code",
   "execution_count": 18,
   "id": "e14c8482",
   "metadata": {},
   "outputs": [],
   "source": [
    "tem.drop(columns=['city', 'state', 'country', 'national_type', 'regional_type'], inplace=True)"
   ]
  },
  {
   "cell_type": "markdown",
   "id": "008561fe",
   "metadata": {},
   "source": [
    "1.2 Для категориальных переменных используем OHE-кодирование."
   ]
  },
  {
   "cell_type": "code",
   "execution_count": 19,
   "id": "e9fde74e",
   "metadata": {},
   "outputs": [],
   "source": [
    "tem_ohe = pd.get_dummies(tem, columns=['store_nbr', 'shop_type', 'local_type', 'month'], drop_first= True, dtype='int')"
   ]
  },
  {
   "cell_type": "code",
   "execution_count": 20,
   "id": "f19f10f6",
   "metadata": {},
   "outputs": [],
   "source": [
    "tem_ohe.rename(columns = {'local_type_Holiday':'Holiday', 'local_type_Work Day':'Workday', 'month_7':'July', \n",
    "                     'month_8':'Aug'}, inplace = True)"
   ]
  },
  {
   "cell_type": "code",
   "execution_count": 21,
   "id": "40dfe7f8",
   "metadata": {},
   "outputs": [
    {
     "data": {
      "text/html": [
       "<div>\n",
       "<style scoped>\n",
       "    .dataframe tbody tr th:only-of-type {\n",
       "        vertical-align: middle;\n",
       "    }\n",
       "\n",
       "    .dataframe tbody tr th {\n",
       "        vertical-align: top;\n",
       "    }\n",
       "\n",
       "    .dataframe thead th {\n",
       "        text-align: right;\n",
       "    }\n",
       "</style>\n",
       "<table border=\"1\" class=\"dataframe\">\n",
       "  <thead>\n",
       "    <tr style=\"text-align: right;\">\n",
       "      <th></th>\n",
       "      <th>date</th>\n",
       "      <th>sales</th>\n",
       "      <th>transactions</th>\n",
       "      <th>onpromotion</th>\n",
       "      <th>oilprice</th>\n",
       "      <th>temp</th>\n",
       "      <th>humidity</th>\n",
       "      <th>windspeed(mph)</th>\n",
       "      <th>pressure(mbar)</th>\n",
       "      <th>precip</th>\n",
       "      <th>...</th>\n",
       "      <th>store_nbr_53</th>\n",
       "      <th>store_nbr_54</th>\n",
       "      <th>shop_type_B</th>\n",
       "      <th>shop_type_C</th>\n",
       "      <th>shop_type_D</th>\n",
       "      <th>shop_type_E</th>\n",
       "      <th>Holiday</th>\n",
       "      <th>Workday</th>\n",
       "      <th>July</th>\n",
       "      <th>Aug</th>\n",
       "    </tr>\n",
       "  </thead>\n",
       "  <tbody>\n",
       "    <tr>\n",
       "      <th>6924</th>\n",
       "      <td>2013-06-01</td>\n",
       "      <td>6180.505</td>\n",
       "      <td>1357</td>\n",
       "      <td>0</td>\n",
       "      <td>92.423333</td>\n",
       "      <td>13</td>\n",
       "      <td>87</td>\n",
       "      <td>3.73</td>\n",
       "      <td>1015</td>\n",
       "      <td>2.9</td>\n",
       "      <td>...</td>\n",
       "      <td>0</td>\n",
       "      <td>0</td>\n",
       "      <td>0</td>\n",
       "      <td>0</td>\n",
       "      <td>1</td>\n",
       "      <td>0</td>\n",
       "      <td>0</td>\n",
       "      <td>1</td>\n",
       "      <td>0</td>\n",
       "      <td>0</td>\n",
       "    </tr>\n",
       "    <tr>\n",
       "      <th>6925</th>\n",
       "      <td>2013-06-01</td>\n",
       "      <td>10286.549</td>\n",
       "      <td>2052</td>\n",
       "      <td>0</td>\n",
       "      <td>92.423333</td>\n",
       "      <td>13</td>\n",
       "      <td>87</td>\n",
       "      <td>3.73</td>\n",
       "      <td>1015</td>\n",
       "      <td>2.9</td>\n",
       "      <td>...</td>\n",
       "      <td>0</td>\n",
       "      <td>0</td>\n",
       "      <td>0</td>\n",
       "      <td>0</td>\n",
       "      <td>1</td>\n",
       "      <td>0</td>\n",
       "      <td>0</td>\n",
       "      <td>1</td>\n",
       "      <td>0</td>\n",
       "      <td>0</td>\n",
       "    </tr>\n",
       "  </tbody>\n",
       "</table>\n",
       "<p>2 rows × 71 columns</p>\n",
       "</div>"
      ],
      "text/plain": [
       "           date      sales  transactions  onpromotion   oilprice  temp  \\\n",
       "6924 2013-06-01   6180.505          1357            0  92.423333    13   \n",
       "6925 2013-06-01  10286.549          2052            0  92.423333    13   \n",
       "\n",
       "      humidity  windspeed(mph)  pressure(mbar)  precip  ...  store_nbr_53  \\\n",
       "6924        87            3.73            1015     2.9  ...             0   \n",
       "6925        87            3.73            1015     2.9  ...             0   \n",
       "\n",
       "      store_nbr_54  shop_type_B  shop_type_C  shop_type_D  shop_type_E  \\\n",
       "6924             0            0            0            1            0   \n",
       "6925             0            0            0            1            0   \n",
       "\n",
       "      Holiday  Workday  July  Aug  \n",
       "6924        0        1     0    0  \n",
       "6925        0        1     0    0  \n",
       "\n",
       "[2 rows x 71 columns]"
      ]
     },
     "execution_count": 21,
     "metadata": {},
     "output_type": "execute_result"
    }
   ],
   "source": [
    "tem_ohe.head(2)"
   ]
  },
  {
   "cell_type": "code",
   "execution_count": 22,
   "id": "0aaa76ee",
   "metadata": {},
   "outputs": [
    {
     "name": "stdout",
     "output_type": "stream",
     "text": [
      "до OHE-кодирования: (22234, 14), после OHE-кодирования: (22234, 71)\n"
     ]
    }
   ],
   "source": [
    "print(f'до OHE-кодирования: {tem.shape}, после OHE-кодирования: {tem_ohe.shape}')"
   ]
  },
  {
   "cell_type": "markdown",
   "id": "aa080927",
   "metadata": {},
   "source": [
    "Добавилось 57 новых признаков, в основном за счет магазинов."
   ]
  },
  {
   "cell_type": "code",
   "execution_count": 23,
   "id": "0e0a6dcb",
   "metadata": {},
   "outputs": [],
   "source": [
    "from sklearn.model_selection import train_test_split"
   ]
  },
  {
   "cell_type": "code",
   "execution_count": 24,
   "id": "153e721d",
   "metadata": {},
   "outputs": [],
   "source": [
    "x = tem_ohe.drop(columns=['date', 'sales'])\n",
    "y = tem_ohe['sales']\n",
    "\n",
    "x_train, x_test, y_train, y_test = train_test_split(x, y, test_size=0.2, random_state=10)"
   ]
  },
  {
   "cell_type": "markdown",
   "id": "9b221e5f",
   "metadata": {},
   "source": [
    "#### 1.3. Приведем все количественные признаки к одному масштабу.  "
   ]
  },
  {
   "cell_type": "markdown",
   "id": "03af2420",
   "metadata": {},
   "source": [
    "Все действительные переменные сложим в список real."
   ]
  },
  {
   "cell_type": "code",
   "execution_count": 25,
   "id": "f043713d",
   "metadata": {},
   "outputs": [],
   "source": [
    "real = ['transactions', 'onpromotion', 'oilprice', 'temp', 'humidity',\n",
    "       'windspeed(mph)', 'pressure(mbar)', 'precip']"
   ]
  },
  {
   "cell_type": "code",
   "execution_count": 26,
   "id": "ef56a394",
   "metadata": {},
   "outputs": [],
   "source": [
    "scaler = StandardScaler()\n",
    "x_train_scaled = scaler.fit_transform(x_train[real])\n",
    "x_test_scaled = scaler.transform(x_test[real])"
   ]
  },
  {
   "cell_type": "code",
   "execution_count": 27,
   "id": "e777677e",
   "metadata": {},
   "outputs": [],
   "source": [
    "model = LinearRegression()\n",
    "model.fit(x_train_scaled, y_train)\n",
    "\n",
    "y_pred = model.predict(x_test_scaled)\n",
    "y_train_pred = model.predict(x_train_scaled)"
   ]
  },
  {
   "cell_type": "code",
   "execution_count": 28,
   "id": "895e8176",
   "metadata": {},
   "outputs": [
    {
     "name": "stdout",
     "output_type": "stream",
     "text": [
      "Train MAE = 2798.7752\n",
      "Test MAE = 2717.6549\n",
      "Train MSE: 15661501.138034316\n",
      "Test MSE: 14720117.825801818\n",
      "Train R2: 0.8113132315370712\n",
      "Test R2: 0.8157733246533494\n"
     ]
    }
   ],
   "source": [
    "print(\"Train MAE = %.4f\" % metrics.mean_absolute_error(y_train, y_train_pred))\n",
    "print(\"Test MAE = %.4f\" % metrics.mean_absolute_error(y_test, y_pred))\n",
    "\n",
    "print(f\"Train MSE: { metrics.mean_squared_error(y_train, y_train_pred)}\")\n",
    "print(f\"Test MSE: { metrics.mean_squared_error(y_test, y_pred)}\")\n",
    "\n",
    "print(f\"Train R2: { metrics.r2_score(y_train, y_train_pred)}\")\n",
    "print(f\"Test R2: { metrics.r2_score(y_test, y_pred)}\")"
   ]
  },
  {
   "cell_type": "markdown",
   "id": "407cc161",
   "metadata": {},
   "source": [
    "Значения R2 score для тестовых и тренировочных данных говорят о том, что наша модель описывает данные на 81%. Это довольно хороший результат, но попробуем его ещё немного улучшить. "
   ]
  },
  {
   "cell_type": "markdown",
   "id": "6fdeb6b0",
   "metadata": {},
   "source": [
    "#### Lasso регрессия\n",
    "\n",
    "Посмотрим, поможет ли нам Lasso регрессия:"
   ]
  },
  {
   "cell_type": "code",
   "execution_count": 29,
   "id": "016af130",
   "metadata": {},
   "outputs": [],
   "source": [
    "from sklearn.linear_model import Lasso"
   ]
  },
  {
   "cell_type": "code",
   "execution_count": 31,
   "id": "f785429f",
   "metadata": {},
   "outputs": [
    {
     "name": "stdout",
     "output_type": "stream",
     "text": [
      "Best alpha = 0.0336\n"
     ]
    }
   ],
   "source": [
    "from sklearn.model_selection import GridSearchCV\n",
    "\n",
    "alphas = np.logspace(-2, 3, 20)\n",
    "searcher = GridSearchCV(\n",
    "    Lasso(), [{\"alpha\": alphas}], \n",
    "    scoring=\"neg_mean_squared_error\", cv=5\n",
    ")\n",
    "searcher.fit(x_train_scaled, y_train)\n",
    "\n",
    "best_alpha = searcher.best_params_[\"alpha\"]\n",
    "print(\"Best alpha = %.4f\" % best_alpha)"
   ]
  },
  {
   "cell_type": "markdown",
   "id": "5ebd0dd4",
   "metadata": {},
   "source": [
    "Наилучший коэффициент альфа вышел очень близким к нулю: Lasso regression при таком параметре мало чем будет отличаться от МНК, используемого в нашей обычной модели => получается, применять Лассо-регрессию не целесообразно.  "
   ]
  },
  {
   "cell_type": "markdown",
   "id": "6d9869ea",
   "metadata": {},
   "source": [
    "**Итог:** на основе ранее созданной таблицы мы построили линейную регрессию, которая достаточно хорошо предсказывает продажи."
   ]
  }
 ],
 "metadata": {
  "kernelspec": {
   "display_name": "Python 3 (ipykernel)",
   "language": "python",
   "name": "python3"
  },
  "language_info": {
   "codemirror_mode": {
    "name": "ipython",
    "version": 3
   },
   "file_extension": ".py",
   "mimetype": "text/x-python",
   "name": "python",
   "nbconvert_exporter": "python",
   "pygments_lexer": "ipython3",
   "version": "3.10.9"
  }
 },
 "nbformat": 4,
 "nbformat_minor": 5
}
